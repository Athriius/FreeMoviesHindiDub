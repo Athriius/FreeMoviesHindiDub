{
 "cells": [
  {
   "cell_type": "code",
   "execution_count": null,
   "metadata": {
    "vscode": {
     "languageId": "javascript"
    }
   },
   "outputs": [],
   "source": [
    "// Code Notes\n",
    "function myFunction() {\n",
    "    for (var i=0;i<movies.length;i+=1) {\n",
    "     console.log(movies[i].ftitle);\n",
    "       }\n",
    "}\n",
    "   \n",
    "// BS\n",
    "document.getElementById(\"demo\").innerHTML = \"Movie: \" + movies[i].ftitle + \", Comments: \" + movies[i].reason;"
   ]
  },
  {
   "cell_type": "code",
   "execution_count": null,
   "metadata": {
    "vscode": {
     "languageId": "javascript"
    }
   },
   "outputs": [],
   "source": [
    "// To See all that bullshit with the id and properties, place this before the end of the form\n",
    "\n",
    "<custom-field id=\"msg\">\n",
    "            <pre></pre>\n",
    "        </custom-field>"
   ]
  }
 ],
 "metadata": {
  "language_info": {
   "name": "python"
  },
  "orig_nbformat": 4
 },
 "nbformat": 4,
 "nbformat_minor": 2
}
