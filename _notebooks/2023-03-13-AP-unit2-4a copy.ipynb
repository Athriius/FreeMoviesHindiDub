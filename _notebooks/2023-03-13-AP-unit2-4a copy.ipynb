{
 "cells": [
  {
   "attachments": {},
   "cell_type": "markdown",
   "metadata": {},
   "source": [
    "#  Hacks: MovieChat Movie Database.\n",
    "> Using python to create a database for my movie review website\n",
    "- toc: true\n",
    "- image: /images/python.png\n",
    "- categories: []\n",
    "- type: ap\n",
    "- week: 26"
   ]
  },
  {
   "cell_type": "code",
   "execution_count": 12,
   "metadata": {},
   "outputs": [],
   "source": [
    "\"\"\"\n",
    "These imports define the key objects\n",
    "\"\"\"\n",
    "\n",
    "from flask import Flask\n",
    "from flask_sqlalchemy import SQLAlchemy\n",
    "\n",
    "\"\"\"\n",
    "These object and definitions are used throughout the Jupyter Notebook.\n",
    "\"\"\"\n",
    "\n",
    "app = Flask(__name__)\n",
    "database = 'sqlite:///sqlite.db' \n",
    "app.config['SQLALCHEMY_TRACK_MODIFICATIONS'] = False\n",
    "app.config['SQLALCHEMY_DATABASE_URI'] = database\n",
    "app.config['SECRET_KEY'] = 'SECRET_KEY'\n",
    "db = SQLAlchemy()\n",
    "\n",
    "\n",
    "db.init_app(app)\n"
   ]
  },
  {
   "attachments": {},
   "cell_type": "markdown",
   "metadata": {},
   "source": [
    "## Model Definition\n",
    "> Define columns, initialization, and CRUD methods for movies table in sqlite.db\n",
    "\n",
    "- Comment on these items in the class, purpose and defintion.\n",
    "    - class Movie\n",
    "    - db.Model inheritance\n",
    "    - _init_ method\n",
    "    - ```@property```, ```@<column>.setter```\n",
    "    - create, read, update, delete methods"
   ]
  },
  {
   "cell_type": "code",
   "execution_count": 13,
   "metadata": {},
   "outputs": [],
   "source": [
    "\"\"\" database dependencies to support sqlite examples \"\"\"\n",
    "import datetime\n",
    "from datetime import datetime\n",
    "import json\n",
    "\n",
    "from sqlalchemy.exc import IntegrityError\n",
    "from werkzeug.security import generate_password_hash, check_password_hash\n",
    "\n",
    "\n",
    "''' Tutorial: https://www.sqlalchemy.org/library.html#tutorials, try to get into a Python shell and follow along '''\n",
    "\n",
    "class Movie(db.Model):\n",
    "    __tablename__ = 'movies'  \n",
    "\n",
    "    id = db.Column(db.Integer, primary_key=True)\n",
    "    _name = db.Column(db.String(255), unique=False, nullable=False)\n",
    "    _uid = db.Column(db.String(255), unique=True, nullable=False)\n",
    "    _password = db.Column(db.String(255), unique=False, nullable=False)\n",
    "    _reason = db.Column(db.String(255), unique=False, nullable=False)\n",
    "\n",
    "    def __init__(self, name, uid, reason, password=\"123qwerty\",):\n",
    "        self._name = name   \n",
    "        self._uid = uid\n",
    "        self.set_password(password)\n",
    "        self._reason = reason\n",
    "\n",
    "    @property\n",
    "    def name(self):\n",
    "        return self._name\n",
    "    \n",
    "    @name.setter\n",
    "    def name(self, name):\n",
    "        self._name = name\n",
    "    \n",
    "    @property\n",
    "    def uid(self):\n",
    "        return self._uid\n",
    "    \n",
    "    @uid.setter\n",
    "    def uid(self, uid):\n",
    "        self._uid = uid\n",
    "        \n",
    "    def is_uid(self, uid):\n",
    "        return self._uid == uid\n",
    "    \n",
    "    @property\n",
    "    def password(self):\n",
    "        return self._password[0:10] + \"...\" \n",
    "\n",
    "    def set_password(self, password):\n",
    "        \"\"\"Create a hashed password.\"\"\"\n",
    "        self._password = generate_password_hash(password, method='sha256')\n",
    "\n",
    "    def is_password(self, password):\n",
    "        \"\"\"Check against hashed password.\"\"\"\n",
    "        result = check_password_hash(self._password, password)\n",
    "        return result\n",
    "    \n",
    "    @property\n",
    "    def reason(self):\n",
    "        return self._reason\n",
    "    \n",
    "    @reason.setter\n",
    "    def reason(self, reason):\n",
    "        self._reason = reason\n",
    "        \n",
    "    def is_reason(self, reason):\n",
    "        return self._reason == reason\n",
    "    \n",
    "    def __str__(self):\n",
    "        return json.dumps(self.read())\n",
    "\n",
    "    def create(self):\n",
    "        try:\n",
    "            db.session.add(self) \n",
    "            db.session.commit()  \n",
    "            return self\n",
    "        except IntegrityError:\n",
    "            db.session.remove()\n",
    "            return None\n",
    "\n",
    "    def read(self):\n",
    "        return {\n",
    "            \"id\": self.id,\n",
    "            \"name\": self.name,\n",
    "            \"uid\": self.uid,\n",
    "            \"reason\": self.reason,\n",
    "        }\n",
    "\n",
    "    def update(self, name=\"\", uid=\"\", password=\"\", reason=\"\"):\n",
    "        \"\"\"only updates values with length\"\"\"\n",
    "        if len(name) > 0:\n",
    "            self.name = name\n",
    "        if len(uid) > 0:\n",
    "            self.uid = uid\n",
    "        if len(password) > 0:\n",
    "            self.set_password(password)\n",
    "        if len(reason) > 0:\n",
    "            self.name = reason\n",
    "        db.session.add(self)\n",
    "        db.session.commit()\n",
    "        return self\n",
    "\n",
    "    def delete(self):\n",
    "        db.session.delete(self)\n",
    "        db.session.commit()\n",
    "        return None\n",
    "    "
   ]
  },
  {
   "attachments": {},
   "cell_type": "markdown",
   "metadata": {},
   "source": [
    "## Initial Data\n",
    "> Uses SQLALchemy db.create_all() to initialize rows into sqlite.db\n",
    "\n",
    "- Comment on how these work?\n",
    "    1. Create All Tables from db Object\n",
    "    2. Movie Object Constructors\n",
    "    3. Try / Except \n"
   ]
  },
  {
   "cell_type": "code",
   "execution_count": 14,
   "metadata": {},
   "outputs": [
    {
     "name": "stdout",
     "output_type": "stream",
     "text": [
      "Records exist uid toby, or error.\n",
      "Records exist uid niko, or error.\n"
     ]
    }
   ],
   "source": [
    "\"\"\"Database Creation and Testing \"\"\"\n",
    "\n",
    "\n",
    "def initMovies():\n",
    "    with app.app_context():\n",
    "        \"\"\"Create database and tables\"\"\"\n",
    "        db.create_all()\n",
    "        \"\"\"Tester data for table\"\"\"\n",
    "        u1 = Movie(name='Interstellar', uid='toby', password='123toby', reason='Beautiful graphics')\n",
    "        u2 = Movie(name='Click', uid='niko', password='123niko', reason='Adam Sandler funny')\n",
    "\n",
    "# Example users with movie reviews\n",
    "\n",
    "        movies = [u1, u2,]\n",
    "\n",
    "        \"\"\"Builds sample movie/note(s) data\"\"\"\n",
    "        for movie in movies:\n",
    "            try:\n",
    "                '''add movie to table'''\n",
    "                object = movie.create()\n",
    "                print(f\"Created new uid {object.uid}\")\n",
    "            except:  # error raised if object nit created\n",
    "                '''fails with bad or duplicate data'''\n",
    "                print(f\"Records exist uid {movie.uid}, or error.\")\n",
    "                \n",
    "initMovies()"
   ]
  },
  {
   "attachments": {},
   "cell_type": "markdown",
   "metadata": {},
   "source": [
    "## Check for given Credentials in movies table in sqlite.db\n",
    "> Use of ORM Query object and custom methods to identify movie to credentials uid and password\n",
    "\n",
    "- Comment on purpose of following\n",
    "    1. Movie.query.filter_by\n",
    "    2. movie.password"
   ]
  },
  {
   "cell_type": "code",
   "execution_count": 15,
   "metadata": {},
   "outputs": [],
   "source": [
    "def find_by_uid(uid):\n",
    "    with app.app_context():\n",
    "        movie = Movie.query.filter_by(_uid=uid).first()\n",
    "    return movie # returns movie object\n",
    "\n",
    "def check_credentials(uid, password):\n",
    "    movie = find_by_uid(uid)\n",
    "    if movie == None:\n",
    "        return False\n",
    "    if (movie.is_password(password)):\n",
    "        return True\n",
    "    return False\n",
    "        \n"
   ]
  },
  {
   "attachments": {},
   "cell_type": "markdown",
   "metadata": {},
   "source": [
    "## Create a new Movie Review in Sqlite.db"
   ]
  },
  {
   "cell_type": "code",
   "execution_count": 16,
   "metadata": {},
   "outputs": [
    {
     "name": "stdout",
     "output_type": "stream",
     "text": [
      "Created\n",
      " {'id': 5, 'name': 'Back to the Future', 'uid': 'adin', 'reason': 'Kinda cool'}\n"
     ]
    }
   ],
   "source": [
    "def create():\n",
    "    uid = input(\"Enter your user id:\")\n",
    "    movie = find_by_uid(uid)\n",
    "    try:\n",
    "        print(\"Found\\n\", movie.read())\n",
    "        return\n",
    "    except:\n",
    "        pass # keep going\n",
    "    \n",
    "    name = input(\"Enter your film's name:\")\n",
    "    password = input(\"Enter your password\")\n",
    "    reason = input(\"Enter the reason you enjoyed the film\")\n",
    "    \n",
    "    movie = Movie(name=name, \n",
    "                uid=uid, \n",
    "                password=password,\n",
    "                reason=reason\n",
    "                )\n",
    "           \n",
    "    with app.app_context():\n",
    "        try:\n",
    "            object = movie.create()\n",
    "            print(\"Created\\n\", object.read())\n",
    "        except: \n",
    "            print(\"Unknown error uid {uid}\")\n",
    "        \n",
    "create()"
   ]
  },
  {
   "attachments": {},
   "cell_type": "markdown",
   "metadata": {},
   "source": [
    "## Reading movies table in sqlite.db\n",
    "> Uses SQLALchemy query.all method to read data\n",
    "\n",
    "- Comment on purpose of following\n",
    "    1. Movie.query.all\n",
    "    2. json_ready assignment, google List Comprehension"
   ]
  },
  {
   "cell_type": "code",
   "execution_count": 17,
   "metadata": {},
   "outputs": [
    {
     "data": {
      "text/plain": [
       "[{'id': 1,\n",
       "  'name': 'Interstellar',\n",
       "  'uid': 'toby',\n",
       "  'reason': 'Beautiful graphics'},\n",
       " {'id': 2, 'name': 'Click', 'uid': 'niko', 'reason': 'Adam Sandler funny'},\n",
       " {'id': 3,\n",
       "  'name': 'Puss and Boots the Last Wish',\n",
       "  'uid': 'Luke',\n",
       "  'reason': 'the animation'},\n",
       " {'id': 4, 'name': 'Over The Hedge', 'uid': 'john', 'reason': 'Fun Comedy'},\n",
       " {'id': 5,\n",
       "  'name': 'Back to the Future',\n",
       "  'uid': 'adin',\n",
       "  'reason': 'Kinda cool'}]"
      ]
     },
     "execution_count": 17,
     "metadata": {},
     "output_type": "execute_result"
    }
   ],
   "source": [
    "\n",
    "# SQLAlchemy extracts all movies from database, turns each movie into JSON\n",
    "def read():\n",
    "    with app.app_context():\n",
    "        table = Movie.query.all()\n",
    "    json_ready = [movie.read() for movie in table] # \"List Comprehensions\", for each movie add movie.read() to list\n",
    "    return json_ready\n",
    "\n",
    "read()"
   ]
  },
  {
   "attachments": {},
   "cell_type": "markdown",
   "metadata": {},
   "source": [
    "# Update and Delete Functions"
   ]
  },
  {
   "cell_type": "code",
   "execution_count": 10,
   "metadata": {},
   "outputs": [],
   "source": [
    "def update():\n",
    "    uid = input(\"Enter your user id:\")\n",
    "    movie = find_by_uid(uid)\n",
    "    try:\n",
    "        print(\"Found\\n\", movie.read())\n",
    "        pass\n",
    "    except:\n",
    "        return\n",
    "    \n",
    "    password = input(\"Enter your password:\")\n",
    "    if check_credentials(uid, password):\n",
    "        pass\n",
    "    else:\n",
    "        return\n",
    "    \n",
    "    nname = input(\"Enter your name\")\n",
    "    nuid = input(\"Enter your new user id\")\n",
    "    try:\n",
    "        print(\"Already exists\\n\", find_by_uid(nuid).read())\n",
    "        return\n",
    "    except:\n",
    "        pass\n",
    "\n",
    "    with app.app_context():\n",
    "        try:\n",
    "            object = movie.update(nname, nuid, \"\")\n",
    "            print(\"updated\\n\", object.read())\n",
    "        except:\n",
    "            print(\"Unknown error\")\n",
    "    \n",
    "        \n",
    "update()"
   ]
  },
  {
   "cell_type": "code",
   "execution_count": 46,
   "metadata": {},
   "outputs": [
    {
     "name": "stdout",
     "output_type": "stream",
     "text": [
      "Found\n",
      " {'id': 7, 'name': 'Luke', 'uid': 'Luke', 'dob': '03-15-2023', 'age': 0}\n"
     ]
    }
   ],
   "source": [
    "def delete():\n",
    "    uid = input(\"Enter your user id:\")\n",
    "    movie = find_by_uid(uid)\n",
    "    try:\n",
    "        print(\"Found\\n\", movie.read())\n",
    "        pass\n",
    "    except:\n",
    "        return\n",
    "    \n",
    "    password = input(\"Enter your password:\")\n",
    "    if check_credentials(uid, password):\n",
    "        pass\n",
    "    else:\n",
    "        return\n",
    "\n",
    "    with app.app_context():\n",
    "        try:\n",
    "            object = movie.delete()\n",
    "            print(\"deleted\\n\", object.read())\n",
    "        except:\n",
    "            print(\"Unknown error\")\n",
    "    \n",
    "        \n",
    "delete()"
   ]
  },
  {
   "cell_type": "code",
   "execution_count": 11,
   "metadata": {},
   "outputs": [
    {
     "name": "stdout",
     "output_type": "stream",
     "text": [
      "Created\n",
      " {'id': 4, 'name': 'Over The Hedge', 'uid': 'john', 'reason': 'Fun Comedy'}\n"
     ]
    }
   ],
   "source": [
    "def crud():\n",
    "    uinp = input(\"create, read, update, or delete?\")\n",
    "    if uinp.lower() == \"create\":\n",
    "        create()\n",
    "    elif uinp.lower() == \"read\":\n",
    "        read()\n",
    "    elif uinp.lower() == \"update\":\n",
    "        update()\n",
    "    elif uinp.lower() == \"delete\":\n",
    "        delete()\n",
    "    else:\n",
    "        print(\"Input Error\")\n",
    "crud()"
   ]
  }
 ],
 "metadata": {
  "kernelspec": {
   "display_name": "base",
   "language": "python",
   "name": "python3"
  },
  "language_info": {
   "codemirror_mode": {
    "name": "ipython",
    "version": 3
   },
   "file_extension": ".py",
   "mimetype": "text/x-python",
   "name": "python",
   "nbconvert_exporter": "python",
   "pygments_lexer": "ipython3",
   "version": "3.9.12"
  },
  "orig_nbformat": 4,
  "vscode": {
   "interpreter": {
    "hash": "8b82d5009c68ba5675978267e2b13a671f2a7143d61273c5a3813c97e0b2493d"
   }
  }
 },
 "nbformat": 4,
 "nbformat_minor": 2
}
